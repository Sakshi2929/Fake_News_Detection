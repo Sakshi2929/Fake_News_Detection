{
 "cells": [
  {
   "cell_type": "code",
   "execution_count": 3,
   "id": "0f522f80",
   "metadata": {},
   "outputs": [
    {
     "name": "stdout",
     "output_type": "stream",
     "text": [
      "processing page : 1\n",
      "https://www.politifact.com/factchecks/list/?page=1\n",
      "30\n"
     ]
    },
    {
     "data": {
      "text/html": [
       "<div>\n",
       "<style scoped>\n",
       "    .dataframe tbody tr th:only-of-type {\n",
       "        vertical-align: middle;\n",
       "    }\n",
       "\n",
       "    .dataframe tbody tr th {\n",
       "        vertical-align: top;\n",
       "    }\n",
       "\n",
       "    .dataframe thead th {\n",
       "        text-align: right;\n",
       "    }\n",
       "</style>\n",
       "<table border=\"1\" class=\"dataframe\">\n",
       "  <thead>\n",
       "    <tr style=\"text-align: right;\">\n",
       "      <th></th>\n",
       "      <th>Statement</th>\n",
       "      <th>Link</th>\n",
       "      <th>Date</th>\n",
       "      <th>Source</th>\n",
       "      <th>Label</th>\n",
       "    </tr>\n",
       "  </thead>\n",
       "  <tbody>\n",
       "    <tr>\n",
       "      <th>0</th>\n",
       "      <td>\"America (is) trying to overthrow the Ukraine ...</td>\n",
       "      <td>https://www.politifact.com/factchecks/2022/apr...</td>\n",
       "      <td>pril 22, 2022</td>\n",
       "      <td>Facebook posts</td>\n",
       "      <td>false</td>\n",
       "    </tr>\n",
       "    <tr>\n",
       "      <th>1</th>\n",
       "      <td>Lilibet, baby daughter of the Duke and Duchess...</td>\n",
       "      <td>https://www.politifact.com/factchecks/2022/apr...</td>\n",
       "      <td>pril 22, 2022</td>\n",
       "      <td>Facebook posts</td>\n",
       "      <td>false</td>\n",
       "    </tr>\n",
       "    <tr>\n",
       "      <th>2</th>\n",
       "      <td>Arnold Schwarzenegger slept on the ground in f...</td>\n",
       "      <td>https://www.politifact.com/factchecks/2022/apr...</td>\n",
       "      <td>pril 22, 2022</td>\n",
       "      <td>Facebook posts</td>\n",
       "      <td>false</td>\n",
       "    </tr>\n",
       "    <tr>\n",
       "      <th>3</th>\n",
       "      <td>“The price of insulin increases as waistlines ...</td>\n",
       "      <td>https://www.politifact.com/factchecks/2022/apr...</td>\n",
       "      <td>pril 21, 2022</td>\n",
       "      <td>Matt Gaetz</td>\n",
       "      <td>false</td>\n",
       "    </tr>\n",
       "    <tr>\n",
       "      <th>4</th>\n",
       "      <td>A Reddit post shows a parent admitting to forc...</td>\n",
       "      <td>https://www.politifact.com/factchecks/2022/apr...</td>\n",
       "      <td>pril 20, 2022</td>\n",
       "      <td>Tweets</td>\n",
       "      <td>false</td>\n",
       "    </tr>\n",
       "  </tbody>\n",
       "</table>\n",
       "</div>"
      ],
      "text/plain": [
       "                                           Statement  \\\n",
       "0  \"America (is) trying to overthrow the Ukraine ...   \n",
       "1  Lilibet, baby daughter of the Duke and Duchess...   \n",
       "2  Arnold Schwarzenegger slept on the ground in f...   \n",
       "3  “The price of insulin increases as waistlines ...   \n",
       "4  A Reddit post shows a parent admitting to forc...   \n",
       "\n",
       "                                                Link           Date  \\\n",
       "0  https://www.politifact.com/factchecks/2022/apr...  pril 22, 2022   \n",
       "1  https://www.politifact.com/factchecks/2022/apr...  pril 22, 2022   \n",
       "2  https://www.politifact.com/factchecks/2022/apr...  pril 22, 2022   \n",
       "3  https://www.politifact.com/factchecks/2022/apr...  pril 21, 2022   \n",
       "4  https://www.politifact.com/factchecks/2022/apr...  pril 20, 2022   \n",
       "\n",
       "           Source  Label  \n",
       "0  Facebook posts  false  \n",
       "1  Facebook posts  false  \n",
       "2  Facebook posts  false  \n",
       "3      Matt Gaetz  false  \n",
       "4          Tweets  false  "
      ]
     },
     "execution_count": 3,
     "metadata": {},
     "output_type": "execute_result"
    }
   ],
   "source": [
    "import urllib.request,sys,time\n",
    "from bs4 import BeautifulSoup\n",
    "import requests\n",
    "import pandas as pd\n",
    "\n",
    "pagesToGet= 1\n",
    "\n",
    "upperframe=[]  \n",
    "for page in range(1,pagesToGet+1):\n",
    "    print('processing page :', page)\n",
    "    url = 'https://www.politifact.com/factchecks/list/?page='+str(page)\n",
    "    print(url)\n",
    "    \n",
    "    #an exception might be thrown, so the code should be in a try-except block\n",
    "    try:\n",
    "        #use the browser to get the url. This is suspicious command that might blow up.\n",
    "        page=requests.get(url)                             # this might throw an exception if something goes wrong.\n",
    "    \n",
    "    except Exception as e:                                   # this describes what to do if an exception is thrown\n",
    "        error_type, error_obj, error_info = sys.exc_info()      # get the exception information\n",
    "        print ('ERROR FOR LINK:',url)                          #print the link that cause the problem\n",
    "        print (error_type, 'Line:', error_info.tb_lineno)     #print error info and line that threw the exception\n",
    "        continue                                              #ignore this page. Abandon this and go back.\n",
    "    time.sleep(2)   \n",
    "    soup=BeautifulSoup(page.text,'html.parser')\n",
    "    frame=[]\n",
    "    links=soup.find_all('li',attrs={'class':'o-listicle__item'})\n",
    "    print(len(links))\n",
    "    filename=r\"C:\\Users\\Sakshi\\Documents\\live.csv\"\n",
    "    f=open(filename,\"w\", encoding = 'utf-8')\n",
    "    headers=\"Statement,Link,Date, Source, Label\\n\"\n",
    "    f.write(headers)\n",
    "    \n",
    "    for j in links:\n",
    "        Statement = j.find(\"div\",attrs={'class':'m-statement__quote'}).text.strip()\n",
    "        Link = \"https://www.politifact.com\"\n",
    "        Link += j.find(\"div\",attrs={'class':'m-statement__quote'}).find('a')['href'].strip()\n",
    "        Date = j.find('div',attrs={'class':'m-statement__body'}).find('footer').text[-14:-1].strip()\n",
    "        Source = j.find('div', attrs={'class':'m-statement__meta'}).find('a').text.strip()\n",
    "        Label = j.find('div', attrs ={'class':'m-statement__content'}).find('img',attrs={'class':'c-image__original'}).get('alt').strip()\n",
    "        frame.append((Statement,Link,Date,Source,Label))\n",
    "        f.write(Statement.replace(\",\",\"^\")+\",\"+Link+\",\"+Date.replace(\",\",\"^\")+\",\"+Source.replace(\",\",\"^\")+\",\"+Label.replace(\",\",\"^\")+\"\\n\")\n",
    "    upperframe.extend(frame)\n",
    "f.close()\n",
    "data=pd.DataFrame(upperframe, columns=['Statement','Link','Date','Source','Label'])\n",
    "data.head()\n"
   ]
  },
  {
   "cell_type": "code",
   "execution_count": 4,
   "id": "cff303e9",
   "metadata": {},
   "outputs": [],
   "source": [
    "import pandas as pd"
   ]
  },
  {
   "cell_type": "code",
   "execution_count": 5,
   "id": "ced84458",
   "metadata": {},
   "outputs": [
    {
     "name": "stderr",
     "output_type": "stream",
     "text": [
      "C:\\Users\\Sakshi\\AppData\\Local\\Temp\\ipykernel_11408\\312745758.py:1: FutureWarning: The error_bad_lines argument has been deprecated and will be removed in a future version. Use on_bad_lines in the future.\n",
      "\n",
      "\n",
      "  dataframe = pd.read_csv(r'C:\\Users\\Sakshi\\Documents\\AT\\live.csv',error_bad_lines=False, engine=\"python\")\n",
      "Skipping line 22: unexpected end of data\n"
     ]
    },
    {
     "data": {
      "text/html": [
       "<div>\n",
       "<style scoped>\n",
       "    .dataframe tbody tr th:only-of-type {\n",
       "        vertical-align: middle;\n",
       "    }\n",
       "\n",
       "    .dataframe tbody tr th {\n",
       "        vertical-align: top;\n",
       "    }\n",
       "\n",
       "    .dataframe thead th {\n",
       "        text-align: right;\n",
       "    }\n",
       "</style>\n",
       "<table border=\"1\" class=\"dataframe\">\n",
       "  <thead>\n",
       "    <tr style=\"text-align: right;\">\n",
       "      <th></th>\n",
       "      <th>Statement</th>\n",
       "      <th>Link</th>\n",
       "      <th>Date</th>\n",
       "      <th>Source</th>\n",
       "      <th>Label</th>\n",
       "    </tr>\n",
       "  </thead>\n",
       "  <tbody>\n",
       "    <tr>\n",
       "      <th>0</th>\n",
       "      <td>America (is) trying to overthrow the Ukraine g...</td>\n",
       "      <td>https://www.politifact.com/factchecks/2022/apr...</td>\n",
       "      <td>pril 22^ 2022</td>\n",
       "      <td>Facebook posts</td>\n",
       "      <td>false</td>\n",
       "    </tr>\n",
       "    <tr>\n",
       "      <th>1</th>\n",
       "      <td>Lilibet^ baby daughter of the Duke and Duchess...</td>\n",
       "      <td>https://www.politifact.com/factchecks/2022/apr...</td>\n",
       "      <td>pril 22^ 2022</td>\n",
       "      <td>Facebook posts</td>\n",
       "      <td>false</td>\n",
       "    </tr>\n",
       "    <tr>\n",
       "      <th>2</th>\n",
       "      <td>Arnold Schwarzenegger slept on the ground in f...</td>\n",
       "      <td>https://www.politifact.com/factchecks/2022/apr...</td>\n",
       "      <td>pril 22^ 2022</td>\n",
       "      <td>Facebook posts</td>\n",
       "      <td>false</td>\n",
       "    </tr>\n",
       "    <tr>\n",
       "      <th>3</th>\n",
       "      <td>“The price of insulin increases as waistlines ...</td>\n",
       "      <td>https://www.politifact.com/factchecks/2022/apr...</td>\n",
       "      <td>pril 21^ 2022</td>\n",
       "      <td>Matt Gaetz</td>\n",
       "      <td>false</td>\n",
       "    </tr>\n",
       "    <tr>\n",
       "      <th>4</th>\n",
       "      <td>A Reddit post shows a parent admitting to forc...</td>\n",
       "      <td>https://www.politifact.com/factchecks/2022/apr...</td>\n",
       "      <td>pril 20^ 2022</td>\n",
       "      <td>Tweets</td>\n",
       "      <td>false</td>\n",
       "    </tr>\n",
       "  </tbody>\n",
       "</table>\n",
       "</div>"
      ],
      "text/plain": [
       "                                           Statement  \\\n",
       "0  America (is) trying to overthrow the Ukraine g...   \n",
       "1  Lilibet^ baby daughter of the Duke and Duchess...   \n",
       "2  Arnold Schwarzenegger slept on the ground in f...   \n",
       "3  “The price of insulin increases as waistlines ...   \n",
       "4  A Reddit post shows a parent admitting to forc...   \n",
       "\n",
       "                                                Link           Date  \\\n",
       "0  https://www.politifact.com/factchecks/2022/apr...  pril 22^ 2022   \n",
       "1  https://www.politifact.com/factchecks/2022/apr...  pril 22^ 2022   \n",
       "2  https://www.politifact.com/factchecks/2022/apr...  pril 22^ 2022   \n",
       "3  https://www.politifact.com/factchecks/2022/apr...  pril 21^ 2022   \n",
       "4  https://www.politifact.com/factchecks/2022/apr...  pril 20^ 2022   \n",
       "\n",
       "           Source  Label  \n",
       "0  Facebook posts  false  \n",
       "1  Facebook posts  false  \n",
       "2  Facebook posts  false  \n",
       "3      Matt Gaetz  false  \n",
       "4          Tweets  false  "
      ]
     },
     "execution_count": 5,
     "metadata": {},
     "output_type": "execute_result"
    }
   ],
   "source": [
    "dataframe = pd.read_csv(r'C:\\Users\\Sakshi\\Documents\\AT\\live.csv',error_bad_lines=False, engine=\"python\")\n",
    "dataframe.head()"
   ]
  },
  {
   "cell_type": "code",
   "execution_count": 6,
   "id": "da0e9277",
   "metadata": {},
   "outputs": [],
   "source": [
    "import numpy as np\n",
    "dataframe.columns = dataframe.columns.str.strip() \n",
    "df=dataframe.replace({'pants-fire':'false', 'mostly-true':'true', 'half-true':'true'})\n",
    "df['Label'] = df['Label'].fillna(df['Label'].mode()[0])\n",
    "x = df['Statement']\n",
    "\n",
    "y = df['Label']"
   ]
  },
  {
   "cell_type": "code",
   "execution_count": 7,
   "id": "62dfc7c2",
   "metadata": {},
   "outputs": [
    {
     "data": {
      "text/plain": [
       "0     America (is) trying to overthrow the Ukraine g...\n",
       "1     Lilibet^ baby daughter of the Duke and Duchess...\n",
       "2     Arnold Schwarzenegger slept on the ground in f...\n",
       "3     “The price of insulin increases as waistlines ...\n",
       "4     A Reddit post shows a parent admitting to forc...\n",
       "5     Vladimir Putin “ended the Rothschild's control...\n",
       "6     Joe Biden's spending “has sent prices skyrocke...\n",
       "7     “While the initial increase in oil prices resu...\n",
       "8     A photo shows students in Lviv celebrating Ado...\n",
       "9                 “Hunter Biden arrested this morning.”\n",
       "10    After Russia invaded Ukraine^ Google Maps “ope...\n",
       "11    Footage of the Bidens celebrating Easter at th...\n",
       "12    In Canada^ “if you earn $100 and pay $33 incom...\n",
       "13    Vladimir Putin “released 35^000 children from ...\n",
       "14    The Australian Technical Advisory Group on Imm...\n",
       "15    COVID-19 is a synthetic version of “snake veno...\n",
       "16    President Joe Biden was confused^ “turned arou...\n",
       "17    If Wisconsin Gov. Tony Evers \"had passed his (...\n",
       "18    Dave McCormick is \"liberal^ pro-Biden^ pro-Chi...\n",
       "19    “They’re going to be giving these people who c...\n",
       "Name: Statement, dtype: object"
      ]
     },
     "execution_count": 7,
     "metadata": {},
     "output_type": "execute_result"
    }
   ],
   "source": [
    "x"
   ]
  },
  {
   "cell_type": "code",
   "execution_count": 8,
   "id": "f1d4548a",
   "metadata": {},
   "outputs": [
    {
     "data": {
      "text/plain": [
       "0     false\n",
       "1     false\n",
       "2     false\n",
       "3     false\n",
       "4     false\n",
       "5     false\n",
       "6      true\n",
       "7      true\n",
       "8     false\n",
       "9     false\n",
       "10    false\n",
       "11    false\n",
       "12    false\n",
       "13    false\n",
       "14    false\n",
       "15    false\n",
       "16    false\n",
       "17     true\n",
       "18    false\n",
       "19     true\n",
       "Name: Label, dtype: object"
      ]
     },
     "execution_count": 8,
     "metadata": {},
     "output_type": "execute_result"
    }
   ],
   "source": [
    "y"
   ]
  },
  {
   "cell_type": "code",
   "execution_count": 9,
   "id": "4f591fa4",
   "metadata": {},
   "outputs": [],
   "source": [
    "from sklearn.feature_extraction.text import TfidfVectorizer\n",
    "text = ['Hello Group Seven here, I love machine learning','Welcome to the Machine learning hub' ]"
   ]
  },
  {
   "cell_type": "code",
   "execution_count": 10,
   "id": "fbb1696f",
   "metadata": {},
   "outputs": [],
   "source": [
    "vect = TfidfVectorizer()"
   ]
  },
  {
   "cell_type": "code",
   "execution_count": 11,
   "id": "d98f02a3",
   "metadata": {},
   "outputs": [
    {
     "data": {
      "text/plain": [
       "TfidfVectorizer()"
      ]
     },
     "execution_count": 11,
     "metadata": {},
     "output_type": "execute_result"
    }
   ],
   "source": [
    "vect.fit(text)"
   ]
  },
  {
   "cell_type": "code",
   "execution_count": 12,
   "id": "85c619a7",
   "metadata": {},
   "outputs": [
    {
     "name": "stdout",
     "output_type": "stream",
     "text": [
      "[1.40546511 1.40546511 1.40546511 1.40546511 1.         1.40546511\n",
      " 1.         1.40546511 1.40546511 1.40546511 1.40546511]\n"
     ]
    }
   ],
   "source": [
    "## TF will count the frequency of word in each document. and IDF \n",
    "print(vect.idf_)"
   ]
  },
  {
   "cell_type": "code",
   "execution_count": 13,
   "id": "23a735b0",
   "metadata": {},
   "outputs": [
    {
     "name": "stdout",
     "output_type": "stream",
     "text": [
      "{'hello': 1, 'group': 0, 'seven': 7, 'here': 2, 'love': 5, 'machine': 6, 'learning': 4, 'welcome': 10, 'to': 9, 'the': 8, 'hub': 3}\n"
     ]
    }
   ],
   "source": [
    "print(vect.vocabulary_)"
   ]
  },
  {
   "cell_type": "code",
   "execution_count": 15,
   "id": "cde23e5a",
   "metadata": {},
   "outputs": [
    {
     "data": {
      "text/plain": [
       "'Hello Group Seven here, I love machine learning'"
      ]
     },
     "execution_count": 15,
     "metadata": {},
     "output_type": "execute_result"
    }
   ],
   "source": [
    "example = text[0]\n",
    "example"
   ]
  },
  {
   "cell_type": "code",
   "execution_count": 16,
   "id": "f6bc7c19",
   "metadata": {},
   "outputs": [
    {
     "name": "stdout",
     "output_type": "stream",
     "text": [
      "[[0.4078241  0.4078241  0.4078241  0.         0.29017021 0.4078241\n",
      "  0.29017021 0.4078241  0.         0.         0.        ]]\n"
     ]
    }
   ],
   "source": [
    "example = vect.transform([example])\n",
    "print(example.toarray())"
   ]
  },
  {
   "cell_type": "code",
   "execution_count": 17,
   "id": "5c9e9938",
   "metadata": {},
   "outputs": [],
   "source": [
    "from sklearn.model_selection import train_test_split\n",
    "from sklearn.feature_extraction.text import TfidfVectorizer\n",
    "from sklearn.linear_model import PassiveAggressiveClassifier\n",
    "from sklearn.metrics import accuracy_score, confusion_matrix"
   ]
  },
  {
   "cell_type": "code",
   "execution_count": 18,
   "id": "3aa918e2",
   "metadata": {},
   "outputs": [],
   "source": [
    "x_train,x_test,y_train,y_test = train_test_split(x,y,test_size=0.2,random_state=0)"
   ]
  },
  {
   "cell_type": "code",
   "execution_count": 19,
   "id": "caedddfc",
   "metadata": {},
   "outputs": [
    {
     "data": {
      "text/plain": [
       "10    false\n",
       "17     true\n",
       "6      true\n",
       "13    false\n",
       "4     false\n",
       "2     false\n",
       "5     false\n",
       "14    false\n",
       "9     false\n",
       "7      true\n",
       "16    false\n",
       "11    false\n",
       "3     false\n",
       "0     false\n",
       "15    false\n",
       "12    false\n",
       "Name: Label, dtype: object"
      ]
     },
     "execution_count": 19,
     "metadata": {},
     "output_type": "execute_result"
    }
   ],
   "source": [
    "y_train"
   ]
  },
  {
   "cell_type": "code",
   "execution_count": 20,
   "id": "1f6e59e4",
   "metadata": {},
   "outputs": [],
   "source": [
    "tfvect = TfidfVectorizer(stop_words='english',max_df=0.7)\n",
    "tfid_x_train = tfvect.fit_transform(x_train)\n",
    "tfid_x_test = tfvect.transform(x_test)"
   ]
  },
  {
   "cell_type": "code",
   "execution_count": 21,
   "id": "422fcc17",
   "metadata": {},
   "outputs": [
    {
     "data": {
      "text/plain": [
       "PassiveAggressiveClassifier(max_iter=50)"
      ]
     },
     "execution_count": 21,
     "metadata": {},
     "output_type": "execute_result"
    }
   ],
   "source": [
    "classifier = PassiveAggressiveClassifier(max_iter=50)\n",
    "classifier.fit(tfid_x_train,y_train)"
   ]
  },
  {
   "cell_type": "code",
   "execution_count": 22,
   "id": "e2601187",
   "metadata": {},
   "outputs": [
    {
     "name": "stdout",
     "output_type": "stream",
     "text": [
      "Accuracy: 75.0%\n"
     ]
    }
   ],
   "source": [
    "y_pred = classifier.predict(tfid_x_test)\n",
    "score = accuracy_score(y_test,y_pred)\n",
    "print(f'Accuracy: {round(score*100,2)}%')"
   ]
  },
  {
   "cell_type": "code",
   "execution_count": 23,
   "id": "c05a1e95",
   "metadata": {},
   "outputs": [
    {
     "name": "stdout",
     "output_type": "stream",
     "text": [
      "[[3 0]\n",
      " [1 0]]\n"
     ]
    }
   ],
   "source": [
    "cf = confusion_matrix(y_test,y_pred, labels=['false','true'])\n",
    "print(cf)"
   ]
  },
  {
   "cell_type": "code",
   "execution_count": 24,
   "id": "5e9d59b9",
   "metadata": {},
   "outputs": [],
   "source": [
    "def fake_news_det(news):\n",
    "    input_data = [news]\n",
    "    vectorized_input_data = tfvect.transform(input_data)\n",
    "    prediction = classifier.predict(vectorized_input_data)\n",
    "    print(prediction)"
   ]
  },
  {
   "cell_type": "code",
   "execution_count": 25,
   "id": "b231cc6d",
   "metadata": {},
   "outputs": [
    {
     "name": "stdout",
     "output_type": "stream",
     "text": [
      "['false']\n"
     ]
    }
   ],
   "source": [
    "fake_news_det('U.S. Secretary of State John F. Kerry said Monday that he will stop in Paris later this week, amid criticism that no top American officials attended Sundayâ€™s unity march against terrorism.')"
   ]
  },
  {
   "cell_type": "code",
   "execution_count": 29,
   "id": "440592d1",
   "metadata": {},
   "outputs": [
    {
     "name": "stdout",
     "output_type": "stream",
     "text": [
      "['false']\n"
     ]
    }
   ],
   "source": [
    "fake_news_det('Hunter Biden arrested this morning.')"
   ]
  },
  {
   "cell_type": "code",
   "execution_count": null,
   "id": "c691c378",
   "metadata": {},
   "outputs": [],
   "source": []
  }
 ],
 "metadata": {
  "kernelspec": {
   "display_name": "Python 3 (ipykernel)",
   "language": "python",
   "name": "python3"
  },
  "language_info": {
   "codemirror_mode": {
    "name": "ipython",
    "version": 3
   },
   "file_extension": ".py",
   "mimetype": "text/x-python",
   "name": "python",
   "nbconvert_exporter": "python",
   "pygments_lexer": "ipython3",
   "version": "3.9.1"
  }
 },
 "nbformat": 4,
 "nbformat_minor": 5
}
